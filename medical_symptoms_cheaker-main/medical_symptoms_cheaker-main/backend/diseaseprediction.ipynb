{
 "cells": [
  {
   "cell_type": "code",
   "execution_count": 1,
   "id": "75988252",
   "metadata": {
    "_cell_guid": "b1076dfc-b9ad-4769-8c92-a6c4dae69d19",
    "_uuid": "8f2839f25d086af736a60e9eeb907d3b93b6e0e5",
    "execution": {
     "iopub.execute_input": "2022-12-03T00:58:31.108924Z",
     "iopub.status.busy": "2022-12-03T00:58:31.107924Z",
     "iopub.status.idle": "2022-12-03T00:58:31.132243Z",
     "shell.execute_reply": "2022-12-03T00:58:31.130931Z"
    },
    "papermill": {
     "duration": 0.038169,
     "end_time": "2022-12-03T00:58:31.135287",
     "exception": false,
     "start_time": "2022-12-03T00:58:31.097118",
     "status": "completed"
    },
    "tags": []
   },
   "outputs": [
    {
     "name": "stdout",
     "output_type": "stream",
     "text": [
      "/kaggle/input/disease-prediction-using-machine-learning/Training.csv\n",
      "/kaggle/input/disease-prediction-using-machine-learning/Testing.csv\n"
     ]
    }
   ],
   "source": [
    "# This Python 3 environment comes with many helpful analytics libraries installed\n",
    "# It is defined by the kaggle/python Docker image: https://github.com/kaggle/docker-python\n",
    "# For example, here's several helpful packages to load\n",
    "\n",
    "import numpy as np # linear algebra\n",
    "import pandas as pd # data processing, CSV file I/O (e.g. pd.read_csv)\n",
    "\n",
    "# Input data files are available in the read-only \"../input/\" directory\n",
    "# For example, running this (by clicking run or pressing Shift+Enter) will list all files under the input directory\n",
    "\n",
    "import os\n",
    "for dirname, _, filenames in os.walk('/kaggle/input'):\n",
    "    for filename in filenames:\n",
    "        print(os.path.join(dirname, filename))\n",
    "\n",
    "# You can write up to 20GB to the current directory (/kaggle/working/) that gets preserved as output when you create a version using \"Save & Run All\" \n",
    "# You can also write temporary files to /kaggle/temp/, but they won't be saved outside of the current session"
   ]
  },
  {
   "cell_type": "markdown",
   "id": "7d672799",
   "metadata": {
    "papermill": {
     "duration": 0.007636,
     "end_time": "2022-12-03T00:58:31.150710",
     "exception": false,
     "start_time": "2022-12-03T00:58:31.143074",
     "status": "completed"
    },
    "tags": []
   },
   "source": [
    "# ~ Imports ~"
   ]
  },
  {
   "cell_type": "code",
   "execution_count": 2,
   "id": "e06ebab7",
   "metadata": {
    "execution": {
     "iopub.execute_input": "2022-12-03T00:58:31.169319Z",
     "iopub.status.busy": "2022-12-03T00:58:31.168917Z",
     "iopub.status.idle": "2022-12-03T00:58:32.835278Z",
     "shell.execute_reply": "2022-12-03T00:58:32.833926Z"
    },
    "papermill": {
     "duration": 1.678878,
     "end_time": "2022-12-03T00:58:32.838148",
     "exception": false,
     "start_time": "2022-12-03T00:58:31.159270",
     "status": "completed"
    },
    "tags": []
   },
   "outputs": [],
   "source": [
    "from sklearn import preprocessing\n",
    "from sklearn.model_selection import train_test_split\n",
    "from sklearn.metrics import confusion_matrix\n",
    "from sklearn.linear_model import LogisticRegression\n",
    "from sklearn.tree import DecisionTreeClassifier\n",
    "from sklearn.ensemble import RandomForestClassifier\n",
    "from sklearn.feature_selection import SelectKBest\n",
    "from sklearn.feature_selection import chi2 , f_classif \n",
    "from sklearn.metrics import classification_report, f1_score, mean_absolute_error, make_scorer\n",
    "from sklearn.naive_bayes import GaussianNB\n",
    "from sklearn import svm\n",
    "from sklearn.pipeline import Pipeline\n",
    "from sklearn.impute import SimpleImputer\n",
    "from sklearn.model_selection import cross_val_score\n",
    "from sklearn import model_selection"
   ]
  },
  {
   "cell_type": "markdown",
   "id": "4083bf37",
   "metadata": {
    "papermill": {
     "duration": 0.007178,
     "end_time": "2022-12-03T00:58:32.852644",
     "exception": false,
     "start_time": "2022-12-03T00:58:32.845466",
     "status": "completed"
    },
    "tags": []
   },
   "source": [
    "# Load Data"
   ]
  },
  {
   "cell_type": "code",
   "execution_count": 3,
   "id": "74b837e3",
   "metadata": {
    "execution": {
     "iopub.execute_input": "2022-12-03T00:58:32.869006Z",
     "iopub.status.busy": "2022-12-03T00:58:32.868333Z",
     "iopub.status.idle": "2022-12-03T00:58:32.970061Z",
     "shell.execute_reply": "2022-12-03T00:58:32.968409Z"
    },
    "papermill": {
     "duration": 0.113343,
     "end_time": "2022-12-03T00:58:32.973093",
     "exception": false,
     "start_time": "2022-12-03T00:58:32.859750",
     "status": "completed"
    },
    "tags": []
   },
   "outputs": [
    {
     "name": "stdout",
     "output_type": "stream",
     "text": [
      "Total data\n",
      "(4920, 134)\n"
     ]
    }
   ],
   "source": [
    "data = pd.read_csv('/kaggle/input/disease-prediction-using-machine-learning/Training.csv')\n",
    "\n",
    "print('Total data')\n",
    "print(data.shape)"
   ]
  },
  {
   "cell_type": "markdown",
   "id": "7d511c52",
   "metadata": {
    "papermill": {
     "duration": 0.006776,
     "end_time": "2022-12-03T00:58:32.987158",
     "exception": false,
     "start_time": "2022-12-03T00:58:32.980382",
     "status": "completed"
    },
    "tags": []
   },
   "source": [
    "# Data Preprocessing"
   ]
  },
  {
   "cell_type": "code",
   "execution_count": 4,
   "id": "1f94050a",
   "metadata": {
    "execution": {
     "iopub.execute_input": "2022-12-03T00:58:33.004182Z",
     "iopub.status.busy": "2022-12-03T00:58:33.003729Z",
     "iopub.status.idle": "2022-12-03T00:58:33.023203Z",
     "shell.execute_reply": "2022-12-03T00:58:33.022007Z"
    },
    "papermill": {
     "duration": 0.031096,
     "end_time": "2022-12-03T00:58:33.025820",
     "exception": false,
     "start_time": "2022-12-03T00:58:32.994724",
     "status": "completed"
    },
    "tags": []
   },
   "outputs": [
    {
     "data": {
      "text/plain": [
       "itching                    0\n",
       "skin_rash                  0\n",
       "nodal_skin_eruptions       0\n",
       "continuous_sneezing        0\n",
       "shivering                  0\n",
       "                        ... \n",
       "blister                    0\n",
       "red_sore_around_nose       0\n",
       "yellow_crust_ooze          0\n",
       "prognosis                  0\n",
       "Unnamed: 133            4920\n",
       "Length: 134, dtype: int64"
      ]
     },
     "execution_count": 4,
     "metadata": {},
     "output_type": "execute_result"
    }
   ],
   "source": [
    "data.isnull().sum()"
   ]
  },
  {
   "cell_type": "code",
   "execution_count": 5,
   "id": "0357a34c",
   "metadata": {
    "execution": {
     "iopub.execute_input": "2022-12-03T00:58:33.044813Z",
     "iopub.status.busy": "2022-12-03T00:58:33.044360Z",
     "iopub.status.idle": "2022-12-03T00:58:33.062450Z",
     "shell.execute_reply": "2022-12-03T00:58:33.061262Z"
    },
    "papermill": {
     "duration": 0.030566,
     "end_time": "2022-12-03T00:58:33.065279",
     "exception": false,
     "start_time": "2022-12-03T00:58:33.034713",
     "status": "completed"
    },
    "tags": []
   },
   "outputs": [],
   "source": [
    "data.drop(columns='Unnamed: 133', inplace=True)"
   ]
  },
  {
   "cell_type": "code",
   "execution_count": 6,
   "id": "de425324",
   "metadata": {
    "execution": {
     "iopub.execute_input": "2022-12-03T00:58:33.081737Z",
     "iopub.status.busy": "2022-12-03T00:58:33.081347Z",
     "iopub.status.idle": "2022-12-03T00:58:33.095492Z",
     "shell.execute_reply": "2022-12-03T00:58:33.094238Z"
    },
    "papermill": {
     "duration": 0.025358,
     "end_time": "2022-12-03T00:58:33.098024",
     "exception": false,
     "start_time": "2022-12-03T00:58:33.072666",
     "status": "completed"
    },
    "tags": []
   },
   "outputs": [
    {
     "data": {
      "text/plain": [
       "Fungal infection                           120\n",
       "Hepatitis C                                120\n",
       "Hepatitis E                                120\n",
       "Alcoholic hepatitis                        120\n",
       "Tuberculosis                               120\n",
       "Common Cold                                120\n",
       "Pneumonia                                  120\n",
       "Dimorphic hemmorhoids(piles)               120\n",
       "Heart attack                               120\n",
       "Varicose veins                             120\n",
       "Hypothyroidism                             120\n",
       "Hyperthyroidism                            120\n",
       "Hypoglycemia                               120\n",
       "Osteoarthristis                            120\n",
       "Arthritis                                  120\n",
       "(vertigo) Paroymsal  Positional Vertigo    120\n",
       "Acne                                       120\n",
       "Urinary tract infection                    120\n",
       "Psoriasis                                  120\n",
       "Hepatitis D                                120\n",
       "Hepatitis B                                120\n",
       "Allergy                                    120\n",
       "hepatitis A                                120\n",
       "GERD                                       120\n",
       "Chronic cholestasis                        120\n",
       "Drug Reaction                              120\n",
       "Peptic ulcer diseae                        120\n",
       "AIDS                                       120\n",
       "Diabetes                                   120\n",
       "Gastroenteritis                            120\n",
       "Bronchial Asthma                           120\n",
       "Hypertension                               120\n",
       "Migraine                                   120\n",
       "Cervical spondylosis                       120\n",
       "Paralysis (brain hemorrhage)               120\n",
       "Jaundice                                   120\n",
       "Malaria                                    120\n",
       "Chicken pox                                120\n",
       "Dengue                                     120\n",
       "Typhoid                                    120\n",
       "Impetigo                                   120\n",
       "Name: prognosis, dtype: int64"
      ]
     },
     "execution_count": 6,
     "metadata": {},
     "output_type": "execute_result"
    }
   ],
   "source": [
    "data['prognosis'].value_counts()"
   ]
  },
  {
   "cell_type": "markdown",
   "id": "2287ab5b",
   "metadata": {
    "papermill": {
     "duration": 0.007036,
     "end_time": "2022-12-03T00:58:33.112479",
     "exception": false,
     "start_time": "2022-12-03T00:58:33.105443",
     "status": "completed"
    },
    "tags": []
   },
   "source": [
    "# Validation Set Split & Feature Selection"
   ]
  },
  {
   "cell_type": "code",
   "execution_count": 7,
   "id": "e7cf574e",
   "metadata": {
    "execution": {
     "iopub.execute_input": "2022-12-03T00:58:33.130045Z",
     "iopub.status.busy": "2022-12-03T00:58:33.129602Z",
     "iopub.status.idle": "2022-12-03T00:58:33.149895Z",
     "shell.execute_reply": "2022-12-03T00:58:33.148572Z"
    },
    "papermill": {
     "duration": 0.033241,
     "end_time": "2022-12-03T00:58:33.153535",
     "exception": false,
     "start_time": "2022-12-03T00:58:33.120294",
     "status": "completed"
    },
    "tags": []
   },
   "outputs": [
    {
     "name": "stdout",
     "output_type": "stream",
     "text": [
      "['itching', 'skin_rash', 'nodal_skin_eruptions', 'continuous_sneezing', 'shivering', 'chills', 'joint_pain', 'stomach_pain', 'acidity', 'ulcers_on_tongue', 'muscle_wasting', 'vomiting', 'burning_micturition', 'spotting_ urination', 'fatigue', 'weight_gain', 'anxiety', 'cold_hands_and_feets', 'mood_swings', 'weight_loss', 'restlessness', 'lethargy', 'patches_in_throat', 'irregular_sugar_level', 'cough', 'high_fever', 'sunken_eyes', 'breathlessness', 'sweating', 'dehydration', 'indigestion', 'headache', 'yellowish_skin', 'dark_urine', 'nausea', 'loss_of_appetite', 'pain_behind_the_eyes', 'back_pain', 'constipation', 'abdominal_pain', 'diarrhoea', 'mild_fever', 'yellow_urine', 'yellowing_of_eyes', 'acute_liver_failure', 'fluid_overload', 'swelling_of_stomach', 'swelled_lymph_nodes', 'malaise', 'blurred_and_distorted_vision', 'phlegm', 'throat_irritation', 'redness_of_eyes', 'sinus_pressure', 'runny_nose', 'congestion', 'chest_pain', 'weakness_in_limbs', 'fast_heart_rate', 'pain_during_bowel_movements', 'pain_in_anal_region', 'bloody_stool', 'irritation_in_anus', 'neck_pain', 'dizziness', 'cramps', 'bruising', 'obesity', 'swollen_legs', 'swollen_blood_vessels', 'puffy_face_and_eyes', 'enlarged_thyroid', 'brittle_nails', 'swollen_extremeties', 'excessive_hunger', 'extra_marital_contacts', 'drying_and_tingling_lips', 'slurred_speech', 'knee_pain', 'hip_joint_pain', 'muscle_weakness', 'stiff_neck', 'swelling_joints', 'movement_stiffness', 'spinning_movements', 'loss_of_balance', 'unsteadiness', 'weakness_of_one_body_side', 'loss_of_smell', 'bladder_discomfort', 'foul_smell_of urine', 'continuous_feel_of_urine', 'passage_of_gases', 'internal_itching', 'toxic_look_(typhos)', 'depression', 'irritability', 'muscle_pain', 'altered_sensorium', 'red_spots_over_body', 'belly_pain', 'abnormal_menstruation', 'dischromic _patches', 'watering_from_eyes', 'increased_appetite', 'polyuria', 'family_history', 'mucoid_sputum', 'rusty_sputum', 'lack_of_concentration', 'visual_disturbances', 'receiving_blood_transfusion', 'receiving_unsterile_injections', 'coma', 'stomach_bleeding', 'distention_of_abdomen', 'history_of_alcohol_consumption', 'fluid_overload.1', 'blood_in_sputum', 'prominent_veins_on_calf', 'palpitations', 'painful_walking', 'pus_filled_pimples', 'blackheads', 'scurring', 'skin_peeling', 'silver_like_dusting', 'small_dents_in_nails', 'inflammatory_nails', 'blister', 'red_sore_around_nose', 'yellow_crust_ooze']\n",
      "X Shape is  (3444, 132)\n"
     ]
    }
   ],
   "source": [
    "X = data.drop(columns=['prognosis'])\n",
    "Y = data['prognosis']\n",
    "\n",
    "features = list(X)\n",
    "print(features)\n",
    "\n",
    "X_train, X_test, y_train, y_test = train_test_split(X, Y, test_size=0.3, shuffle=True, random_state=42)\n",
    "\n",
    "# FeatureSelection = SelectKBest(score_func= chi2 ,k=118)  \n",
    "# X_train = FeatureSelection.fit_transform(X_train, y_train)\n",
    "# X_test= FeatureSelection.transform(X_test)\n",
    "\n",
    "print('X Shape is ' , X_train.shape)"
   ]
  },
  {
   "cell_type": "code",
   "execution_count": 8,
   "id": "5e1dda8d",
   "metadata": {
    "execution": {
     "iopub.execute_input": "2022-12-03T00:58:33.172989Z",
     "iopub.status.busy": "2022-12-03T00:58:33.172585Z",
     "iopub.status.idle": "2022-12-03T00:58:33.177090Z",
     "shell.execute_reply": "2022-12-03T00:58:33.175787Z"
    },
    "papermill": {
     "duration": 0.017555,
     "end_time": "2022-12-03T00:58:33.179892",
     "exception": false,
     "start_time": "2022-12-03T00:58:33.162337",
     "status": "completed"
    },
    "tags": []
   },
   "outputs": [],
   "source": [
    "# print(FeatureSelection.get_support()"
   ]
  },
  {
   "cell_type": "code",
   "execution_count": 9,
   "id": "b1a354e2",
   "metadata": {
    "execution": {
     "iopub.execute_input": "2022-12-03T00:58:33.197401Z",
     "iopub.status.busy": "2022-12-03T00:58:33.196978Z",
     "iopub.status.idle": "2022-12-03T00:58:33.200814Z",
     "shell.execute_reply": "2022-12-03T00:58:33.199931Z"
    },
    "papermill": {
     "duration": 0.015469,
     "end_time": "2022-12-03T00:58:33.203312",
     "exception": false,
     "start_time": "2022-12-03T00:58:33.187843",
     "status": "completed"
    },
    "tags": []
   },
   "outputs": [],
   "source": [
    "# X.columns"
   ]
  },
  {
   "cell_type": "code",
   "execution_count": 10,
   "id": "f1e34bd3",
   "metadata": {
    "execution": {
     "iopub.execute_input": "2022-12-03T00:58:33.221459Z",
     "iopub.status.busy": "2022-12-03T00:58:33.221050Z",
     "iopub.status.idle": "2022-12-03T00:58:33.230488Z",
     "shell.execute_reply": "2022-12-03T00:58:33.229319Z"
    },
    "papermill": {
     "duration": 0.022145,
     "end_time": "2022-12-03T00:58:33.233141",
     "exception": false,
     "start_time": "2022-12-03T00:58:33.210996",
     "status": "completed"
    },
    "tags": []
   },
   "outputs": [
    {
     "data": {
      "text/plain": [
       "682               Pneumonia\n",
       "3963              Pneumonia\n",
       "3126          Hypertension \n",
       "4480               Migraine\n",
       "3411        Gastroenteritis\n",
       "               ...         \n",
       "4426              Psoriasis\n",
       "466     Peptic ulcer diseae\n",
       "3092                 Dengue\n",
       "3772       Fungal infection\n",
       "860           Drug Reaction\n",
       "Name: prognosis, Length: 3444, dtype: object"
      ]
     },
     "execution_count": 10,
     "metadata": {},
     "output_type": "execute_result"
    }
   ],
   "source": [
    "y_train\n",
    "# diagnoses = list(Y)\n",
    "# print(diagnoses)"
   ]
  },
  {
   "cell_type": "markdown",
   "id": "ca3b60e6",
   "metadata": {
    "papermill": {
     "duration": 0.007964,
     "end_time": "2022-12-03T00:58:33.248903",
     "exception": false,
     "start_time": "2022-12-03T00:58:33.240939",
     "status": "completed"
    },
    "tags": []
   },
   "source": [
    "# Models:"
   ]
  },
  {
   "cell_type": "markdown",
   "id": "85e67675",
   "metadata": {
    "papermill": {
     "duration": 0.007148,
     "end_time": "2022-12-03T00:58:33.263701",
     "exception": false,
     "start_time": "2022-12-03T00:58:33.256553",
     "status": "completed"
    },
    "tags": []
   },
   "source": [
    "## 1. SVM"
   ]
  },
  {
   "cell_type": "code",
   "execution_count": 11,
   "id": "5060e948",
   "metadata": {
    "execution": {
     "iopub.execute_input": "2022-12-03T00:58:33.281156Z",
     "iopub.status.busy": "2022-12-03T00:58:33.280680Z",
     "iopub.status.idle": "2022-12-03T00:58:33.287559Z",
     "shell.execute_reply": "2022-12-03T00:58:33.285370Z"
    },
    "papermill": {
     "duration": 0.018979,
     "end_time": "2022-12-03T00:58:33.290328",
     "exception": false,
     "start_time": "2022-12-03T00:58:33.271349",
     "status": "completed"
    },
    "tags": []
   },
   "outputs": [],
   "source": [
    "# svm = svm.SVC(kernel='poly') \n",
    "# svm.fit(X_train, y_train)\n",
    "\n",
    "# svm_pred = svm.predict(X_test)\n",
    "\n",
    "# f1_score(y_test, svm_pred.round(), average = 'macro')\n",
    "# print(classification_report(y_test, svm_pred))\n",
    "# print(\"F1 Score:\", f1_score(y_test, svm_pred.round(), average = 'macro'))"
   ]
  },
  {
   "cell_type": "markdown",
   "id": "eaccc867",
   "metadata": {
    "papermill": {
     "duration": 0.00772,
     "end_time": "2022-12-03T00:58:33.305708",
     "exception": false,
     "start_time": "2022-12-03T00:58:33.297988",
     "status": "completed"
    },
    "tags": []
   },
   "source": [
    "## 2. Logistic Regression"
   ]
  },
  {
   "cell_type": "code",
   "execution_count": 12,
   "id": "242fb31d",
   "metadata": {
    "execution": {
     "iopub.execute_input": "2022-12-03T00:58:33.323593Z",
     "iopub.status.busy": "2022-12-03T00:58:33.323175Z",
     "iopub.status.idle": "2022-12-03T00:58:33.328013Z",
     "shell.execute_reply": "2022-12-03T00:58:33.326918Z"
    },
    "papermill": {
     "duration": 0.016834,
     "end_time": "2022-12-03T00:58:33.330249",
     "exception": false,
     "start_time": "2022-12-03T00:58:33.313415",
     "status": "completed"
    },
    "tags": []
   },
   "outputs": [],
   "source": [
    "# lr = LogisticRegression()\n",
    "# lr.fit(X_train, y_train)\n",
    "\n",
    "# lr_pred = lr.predict(X_test)\n",
    "\n",
    "# f1_score(y_test, lr_pred.round(), average = 'macro')\n",
    "# print(classification_report(y_test, lr_pred))\n",
    "# print(\"F1 Score:\", f1_score(y_test, lr_pred.round(), average = 'macro'))"
   ]
  },
  {
   "cell_type": "markdown",
   "id": "807acb07",
   "metadata": {
    "papermill": {
     "duration": 0.00747,
     "end_time": "2022-12-03T00:58:33.345725",
     "exception": false,
     "start_time": "2022-12-03T00:58:33.338255",
     "status": "completed"
    },
    "tags": []
   },
   "source": [
    "## 3. Gaussian Naive Bayes"
   ]
  },
  {
   "cell_type": "code",
   "execution_count": 13,
   "id": "4226d300",
   "metadata": {
    "execution": {
     "iopub.execute_input": "2022-12-03T00:58:33.363936Z",
     "iopub.status.busy": "2022-12-03T00:58:33.363479Z",
     "iopub.status.idle": "2022-12-03T00:58:33.368403Z",
     "shell.execute_reply": "2022-12-03T00:58:33.367287Z"
    },
    "papermill": {
     "duration": 0.016665,
     "end_time": "2022-12-03T00:58:33.370939",
     "exception": false,
     "start_time": "2022-12-03T00:58:33.354274",
     "status": "completed"
    },
    "tags": []
   },
   "outputs": [],
   "source": [
    "# gnb = GaussianNB()\n",
    "# gnb.fit(X_train, y_train)\n",
    "\n",
    "# gnb_pred = gnb.predict(X_test)\n",
    "\n",
    "# f1_score(y_test, gnb_pred.round(), average = 'macro')\n",
    "# print(classification_report(y_test, gnb_pred))\n",
    "# print(\"F1 Score:\", f1_score(y_test, gnb_pred.round(), average = 'macro'))"
   ]
  },
  {
   "cell_type": "markdown",
   "id": "bd13ff05",
   "metadata": {
    "papermill": {
     "duration": 0.007433,
     "end_time": "2022-12-03T00:58:33.386289",
     "exception": false,
     "start_time": "2022-12-03T00:58:33.378856",
     "status": "completed"
    },
    "tags": []
   },
   "source": [
    "## 4. Random Forest Classifier"
   ]
  },
  {
   "cell_type": "code",
   "execution_count": 14,
   "id": "2895040a",
   "metadata": {
    "execution": {
     "iopub.execute_input": "2022-12-03T00:58:33.403873Z",
     "iopub.status.busy": "2022-12-03T00:58:33.403441Z",
     "iopub.status.idle": "2022-12-03T00:58:36.148125Z",
     "shell.execute_reply": "2022-12-03T00:58:36.145715Z"
    },
    "papermill": {
     "duration": 2.756588,
     "end_time": "2022-12-03T00:58:36.151048",
     "exception": false,
     "start_time": "2022-12-03T00:58:33.394460",
     "status": "completed"
    },
    "tags": []
   },
   "outputs": [
    {
     "name": "stdout",
     "output_type": "stream",
     "text": [
      "['itching', 'skin_rash', 'nodal_skin_eruptions', 'continuous_sneezing', 'shivering', 'chills', 'joint_pain', 'stomach_pain', 'acidity', 'ulcers_on_tongue', 'muscle_wasting', 'vomiting', 'burning_micturition', 'spotting_ urination', 'fatigue', 'weight_gain', 'anxiety', 'cold_hands_and_feets', 'mood_swings', 'weight_loss', 'restlessness', 'lethargy', 'patches_in_throat', 'irregular_sugar_level', 'cough', 'high_fever', 'sunken_eyes', 'breathlessness', 'sweating', 'dehydration', 'indigestion', 'headache', 'yellowish_skin', 'dark_urine', 'nausea', 'loss_of_appetite', 'pain_behind_the_eyes', 'back_pain', 'constipation', 'abdominal_pain', 'diarrhoea', 'mild_fever', 'yellow_urine', 'yellowing_of_eyes', 'acute_liver_failure', 'fluid_overload', 'swelling_of_stomach', 'swelled_lymph_nodes', 'malaise', 'blurred_and_distorted_vision', 'phlegm', 'throat_irritation', 'redness_of_eyes', 'sinus_pressure', 'runny_nose', 'congestion', 'chest_pain', 'weakness_in_limbs', 'fast_heart_rate', 'pain_during_bowel_movements', 'pain_in_anal_region', 'bloody_stool', 'irritation_in_anus', 'neck_pain', 'dizziness', 'cramps', 'bruising', 'obesity', 'swollen_legs', 'swollen_blood_vessels', 'puffy_face_and_eyes', 'enlarged_thyroid', 'brittle_nails', 'swollen_extremeties', 'excessive_hunger', 'extra_marital_contacts', 'drying_and_tingling_lips', 'slurred_speech', 'knee_pain', 'hip_joint_pain', 'muscle_weakness', 'stiff_neck', 'swelling_joints', 'movement_stiffness', 'spinning_movements', 'loss_of_balance', 'unsteadiness', 'weakness_of_one_body_side', 'loss_of_smell', 'bladder_discomfort', 'foul_smell_of urine', 'continuous_feel_of_urine', 'passage_of_gases', 'internal_itching', 'toxic_look_(typhos)', 'depression', 'irritability', 'muscle_pain', 'altered_sensorium', 'red_spots_over_body', 'belly_pain', 'abnormal_menstruation', 'dischromic _patches', 'watering_from_eyes', 'increased_appetite', 'polyuria', 'family_history', 'mucoid_sputum', 'rusty_sputum', 'lack_of_concentration', 'visual_disturbances', 'receiving_blood_transfusion', 'receiving_unsterile_injections', 'coma', 'stomach_bleeding', 'distention_of_abdomen', 'history_of_alcohol_consumption', 'fluid_overload.1', 'blood_in_sputum', 'prominent_veins_on_calf', 'palpitations', 'painful_walking', 'pus_filled_pimples', 'blackheads', 'scurring', 'skin_peeling', 'silver_like_dusting', 'small_dents_in_nails', 'inflammatory_nails', 'blister', 'red_sore_around_nose', 'yellow_crust_ooze']\n",
      "                                         precision    recall  f1-score   support\n",
      "\n",
      "(vertigo) Paroymsal  Positional Vertigo       1.00      1.00      1.00        32\n",
      "                                   AIDS       1.00      1.00      1.00        39\n",
      "                                   Acne       1.00      1.00      1.00        41\n",
      "                    Alcoholic hepatitis       1.00      1.00      1.00        36\n",
      "                                Allergy       1.00      1.00      1.00        35\n",
      "                              Arthritis       1.00      1.00      1.00        36\n",
      "                       Bronchial Asthma       1.00      1.00      1.00        44\n",
      "                   Cervical spondylosis       1.00      1.00      1.00        32\n",
      "                            Chicken pox       1.00      1.00      1.00        35\n",
      "                    Chronic cholestasis       1.00      1.00      1.00        30\n",
      "                            Common Cold       1.00      1.00      1.00        31\n",
      "                                 Dengue       1.00      1.00      1.00        40\n",
      "                              Diabetes        1.00      1.00      1.00        33\n",
      "           Dimorphic hemmorhoids(piles)       1.00      1.00      1.00        45\n",
      "                          Drug Reaction       1.00      1.00      1.00        35\n",
      "                       Fungal infection       1.00      1.00      1.00        28\n",
      "                                   GERD       1.00      1.00      1.00        41\n",
      "                        Gastroenteritis       1.00      1.00      1.00        40\n",
      "                           Heart attack       1.00      1.00      1.00        36\n",
      "                            Hepatitis B       1.00      1.00      1.00        46\n",
      "                            Hepatitis C       1.00      1.00      1.00        40\n",
      "                            Hepatitis D       1.00      1.00      1.00        35\n",
      "                            Hepatitis E       1.00      1.00      1.00        47\n",
      "                          Hypertension        1.00      1.00      1.00        31\n",
      "                        Hyperthyroidism       1.00      1.00      1.00        37\n",
      "                           Hypoglycemia       1.00      1.00      1.00        42\n",
      "                         Hypothyroidism       1.00      1.00      1.00        33\n",
      "                               Impetigo       1.00      1.00      1.00        35\n",
      "                               Jaundice       1.00      1.00      1.00        34\n",
      "                                Malaria       1.00      1.00      1.00        30\n",
      "                               Migraine       1.00      1.00      1.00        36\n",
      "                        Osteoarthristis       1.00      1.00      1.00        28\n",
      "           Paralysis (brain hemorrhage)       1.00      1.00      1.00        34\n",
      "                    Peptic ulcer diseae       1.00      1.00      1.00        27\n",
      "                              Pneumonia       1.00      1.00      1.00        39\n",
      "                              Psoriasis       1.00      1.00      1.00        32\n",
      "                           Tuberculosis       1.00      1.00      1.00        35\n",
      "                                Typhoid       1.00      1.00      1.00        34\n",
      "                Urinary tract infection       1.00      1.00      1.00        36\n",
      "                         Varicose veins       1.00      1.00      1.00        37\n",
      "                            hepatitis A       1.00      1.00      1.00        39\n",
      "\n",
      "                               accuracy                           1.00      1476\n",
      "                              macro avg       1.00      1.00      1.00      1476\n",
      "                           weighted avg       1.00      1.00      1.00      1476\n",
      "\n"
     ]
    }
   ],
   "source": [
    "rfc = RandomForestClassifier(n_estimators=500, max_depth=100, random_state=42, min_samples_leaf=10)\n",
    "rfc.fit(X_train, y_train)\n",
    "\n",
    "rfc.feature_names = list(X)\n",
    "\n",
    "print(rfc.feature_names)\n",
    "\n",
    "rfc_pred = rfc.predict(X_test)\n",
    "\n",
    "# f1_score(y_test, rfc_pred.round(), average = 'macro')\n",
    "print(classification_report(y_test, rfc_pred))\n",
    "# print(\"F1 Score:\", f1_score(y_test, rfc_pred.round(), average = 'macro'))"
   ]
  },
  {
   "cell_type": "code",
   "execution_count": 15,
   "id": "f3f75f25",
   "metadata": {
    "execution": {
     "iopub.execute_input": "2022-12-03T00:58:36.171243Z",
     "iopub.status.busy": "2022-12-03T00:58:36.170796Z",
     "iopub.status.idle": "2022-12-03T00:58:36.187399Z",
     "shell.execute_reply": "2022-12-03T00:58:36.185934Z"
    },
    "papermill": {
     "duration": 0.030159,
     "end_time": "2022-12-03T00:58:36.190251",
     "exception": false,
     "start_time": "2022-12-03T00:58:36.160092",
     "status": "completed"
    },
    "tags": []
   },
   "outputs": [
    {
     "name": "stdout",
     "output_type": "stream",
     "text": [
      "   itching  skin_rash  nodal_skin_eruptions  continuous_sneezing  shivering  \\\n",
      "0        0          0                     0                    1          1   \n",
      "\n",
      "   chills  joint_pain  stomach_pain  acidity  ulcers_on_tongue  ...  \\\n",
      "0       0           0             0        0                 0  ...   \n",
      "\n",
      "   pus_filled_pimples  blackheads  scurring  skin_peeling  \\\n",
      "0                   0           0         0             0   \n",
      "\n",
      "   silver_like_dusting  small_dents_in_nails  inflammatory_nails  blister  \\\n",
      "0                    0                     0                   0        0   \n",
      "\n",
      "   red_sore_around_nose  yellow_crust_ooze  \n",
      "0                     0                  0  \n",
      "\n",
      "[1 rows x 132 columns]\n"
     ]
    }
   ],
   "source": [
    "df = pd.DataFrame(np.zeros((1,132), dtype=int))\n",
    "arr = df.values.copy()\n",
    "arr.resize(1,132)\n",
    "arr[0,3] = 1\n",
    "arr[0,4] = 1\n",
    "# arr[0,55] = 0\n",
    "# arr[0,124] = 0\n",
    "# arr[0,5] = 0\n",
    "\n",
    "df = pd.DataFrame(data = arr, columns = features)\n",
    "print(df)"
   ]
  },
  {
   "cell_type": "code",
   "execution_count": 16,
   "id": "9d02decc",
   "metadata": {
    "execution": {
     "iopub.execute_input": "2022-12-03T00:58:36.208938Z",
     "iopub.status.busy": "2022-12-03T00:58:36.208469Z",
     "iopub.status.idle": "2022-12-03T00:58:36.349670Z",
     "shell.execute_reply": "2022-12-03T00:58:36.347931Z"
    },
    "papermill": {
     "duration": 0.154572,
     "end_time": "2022-12-03T00:58:36.352993",
     "exception": false,
     "start_time": "2022-12-03T00:58:36.198421",
     "status": "completed"
    },
    "tags": []
   },
   "outputs": [
    {
     "name": "stdout",
     "output_type": "stream",
     "text": [
      "['Allergy'] [[32  1 18 17  2]] [['Paralysis (brain hemorrhage)' 'AIDS' 'Heart attack' 'Gastroenteritis'\n",
      "  'Acne']] [[9.93741440e-03 3.49348614e-02 4.96581690e-02 9.38466508e-03\n",
      "  4.50940069e-01 8.77978486e-03 2.16843833e-02 1.53450524e-02\n",
      "  3.18805423e-03 1.45458857e-02 1.04370656e-03 1.47153269e-03\n",
      "  4.10673781e-03 2.67991426e-02 2.76817369e-02 2.21159209e-02\n",
      "  1.88955744e-02 4.64331190e-02 4.00045873e-02 3.60392301e-03\n",
      "  2.22756376e-02 7.40666607e-03 1.11634971e-03 1.32838816e-02\n",
      "  1.24987716e-03 3.89386100e-03 1.58118836e-03 1.60645843e-02\n",
      "  9.10766192e-03 2.99552560e-03 7.92469971e-03 9.96818098e-03\n",
      "  3.02140003e-02 7.66126147e-03 1.74107930e-03 1.30867733e-02\n",
      "  1.66734073e-04 2.62414970e-03 2.75943628e-02 8.69671605e-03\n",
      "  7.92488029e-04]]\n"
     ]
    }
   ],
   "source": [
    "pred = rfc.predict(df)\n",
    "predprob = rfc.predict_proba(df)\n",
    "\n",
    "# top5 = np.argsort(predprob)[:,:-5-1:-1]\n",
    "\n",
    "top5 = np.argsort(predprob)[:,-5-1:-1]\n",
    "classes = rfc.classes_[top5]\n",
    "\n",
    "print (pred, top5, classes, predprob)"
   ]
  },
  {
   "cell_type": "code",
   "execution_count": 17,
   "id": "5ba01076",
   "metadata": {
    "execution": {
     "iopub.execute_input": "2022-12-03T00:58:36.373085Z",
     "iopub.status.busy": "2022-12-03T00:58:36.372629Z",
     "iopub.status.idle": "2022-12-03T00:58:36.379431Z",
     "shell.execute_reply": "2022-12-03T00:58:36.378052Z"
    },
    "papermill": {
     "duration": 0.019327,
     "end_time": "2022-12-03T00:58:36.382229",
     "exception": false,
     "start_time": "2022-12-03T00:58:36.362902",
     "status": "completed"
    },
    "tags": []
   },
   "outputs": [
    {
     "name": "stdout",
     "output_type": "stream",
     "text": [
      "['Paralysis (brain hemorrhage)' 'AIDS' 'Heart attack' 'Gastroenteritis'\n",
      " 'Acne']\n",
      "[0.030214   0.03493486 0.04000459 0.04643312 0.04965817]\n"
     ]
    }
   ],
   "source": [
    "for i in top5:\n",
    "    print(rfc.classes_[i])\n",
    "    print(str(predprob[0,i]))"
   ]
  },
  {
   "cell_type": "code",
   "execution_count": 18,
   "id": "7be8be7b",
   "metadata": {
    "execution": {
     "iopub.execute_input": "2022-12-03T00:58:36.400603Z",
     "iopub.status.busy": "2022-12-03T00:58:36.400182Z",
     "iopub.status.idle": "2022-12-03T00:58:36.410344Z",
     "shell.execute_reply": "2022-12-03T00:58:36.408885Z"
    },
    "papermill": {
     "duration": 0.022133,
     "end_time": "2022-12-03T00:58:36.412627",
     "exception": false,
     "start_time": "2022-12-03T00:58:36.390494",
     "status": "completed"
    },
    "tags": []
   },
   "outputs": [
    {
     "data": {
      "text/plain": [
       "['itching',\n",
       " 'skin_rash',\n",
       " 'nodal_skin_eruptions',\n",
       " 'continuous_sneezing',\n",
       " 'shivering',\n",
       " 'chills',\n",
       " 'joint_pain',\n",
       " 'stomach_pain',\n",
       " 'acidity',\n",
       " 'ulcers_on_tongue',\n",
       " 'muscle_wasting',\n",
       " 'vomiting',\n",
       " 'burning_micturition',\n",
       " 'spotting_ urination',\n",
       " 'fatigue',\n",
       " 'weight_gain',\n",
       " 'anxiety',\n",
       " 'cold_hands_and_feets',\n",
       " 'mood_swings',\n",
       " 'weight_loss',\n",
       " 'restlessness',\n",
       " 'lethargy',\n",
       " 'patches_in_throat',\n",
       " 'irregular_sugar_level',\n",
       " 'cough',\n",
       " 'high_fever',\n",
       " 'sunken_eyes',\n",
       " 'breathlessness',\n",
       " 'sweating',\n",
       " 'dehydration',\n",
       " 'indigestion',\n",
       " 'headache',\n",
       " 'yellowish_skin',\n",
       " 'dark_urine',\n",
       " 'nausea',\n",
       " 'loss_of_appetite',\n",
       " 'pain_behind_the_eyes',\n",
       " 'back_pain',\n",
       " 'constipation',\n",
       " 'abdominal_pain',\n",
       " 'diarrhoea',\n",
       " 'mild_fever',\n",
       " 'yellow_urine',\n",
       " 'yellowing_of_eyes',\n",
       " 'acute_liver_failure',\n",
       " 'fluid_overload',\n",
       " 'swelling_of_stomach',\n",
       " 'swelled_lymph_nodes',\n",
       " 'malaise',\n",
       " 'blurred_and_distorted_vision',\n",
       " 'phlegm',\n",
       " 'throat_irritation',\n",
       " 'redness_of_eyes',\n",
       " 'sinus_pressure',\n",
       " 'runny_nose',\n",
       " 'congestion',\n",
       " 'chest_pain',\n",
       " 'weakness_in_limbs',\n",
       " 'fast_heart_rate',\n",
       " 'pain_during_bowel_movements',\n",
       " 'pain_in_anal_region',\n",
       " 'bloody_stool',\n",
       " 'irritation_in_anus',\n",
       " 'neck_pain',\n",
       " 'dizziness',\n",
       " 'cramps',\n",
       " 'bruising',\n",
       " 'obesity',\n",
       " 'swollen_legs',\n",
       " 'swollen_blood_vessels',\n",
       " 'puffy_face_and_eyes',\n",
       " 'enlarged_thyroid',\n",
       " 'brittle_nails',\n",
       " 'swollen_extremeties',\n",
       " 'excessive_hunger',\n",
       " 'extra_marital_contacts',\n",
       " 'drying_and_tingling_lips',\n",
       " 'slurred_speech',\n",
       " 'knee_pain',\n",
       " 'hip_joint_pain',\n",
       " 'muscle_weakness',\n",
       " 'stiff_neck',\n",
       " 'swelling_joints',\n",
       " 'movement_stiffness',\n",
       " 'spinning_movements',\n",
       " 'loss_of_balance',\n",
       " 'unsteadiness',\n",
       " 'weakness_of_one_body_side',\n",
       " 'loss_of_smell',\n",
       " 'bladder_discomfort',\n",
       " 'foul_smell_of urine',\n",
       " 'continuous_feel_of_urine',\n",
       " 'passage_of_gases',\n",
       " 'internal_itching',\n",
       " 'toxic_look_(typhos)',\n",
       " 'depression',\n",
       " 'irritability',\n",
       " 'muscle_pain',\n",
       " 'altered_sensorium',\n",
       " 'red_spots_over_body',\n",
       " 'belly_pain',\n",
       " 'abnormal_menstruation',\n",
       " 'dischromic _patches',\n",
       " 'watering_from_eyes',\n",
       " 'increased_appetite',\n",
       " 'polyuria',\n",
       " 'family_history',\n",
       " 'mucoid_sputum',\n",
       " 'rusty_sputum',\n",
       " 'lack_of_concentration',\n",
       " 'visual_disturbances',\n",
       " 'receiving_blood_transfusion',\n",
       " 'receiving_unsterile_injections',\n",
       " 'coma',\n",
       " 'stomach_bleeding',\n",
       " 'distention_of_abdomen',\n",
       " 'history_of_alcohol_consumption',\n",
       " 'fluid_overload.1',\n",
       " 'blood_in_sputum',\n",
       " 'prominent_veins_on_calf',\n",
       " 'palpitations',\n",
       " 'painful_walking',\n",
       " 'pus_filled_pimples',\n",
       " 'blackheads',\n",
       " 'scurring',\n",
       " 'skin_peeling',\n",
       " 'silver_like_dusting',\n",
       " 'small_dents_in_nails',\n",
       " 'inflammatory_nails',\n",
       " 'blister',\n",
       " 'red_sore_around_nose',\n",
       " 'yellow_crust_ooze']"
      ]
     },
     "execution_count": 18,
     "metadata": {},
     "output_type": "execute_result"
    }
   ],
   "source": [
    "rfc.feature_names\n",
    "# rfc.n_classes_"
   ]
  },
  {
   "cell_type": "markdown",
   "id": "3aeb7080",
   "metadata": {
    "papermill": {
     "duration": 0.009236,
     "end_time": "2022-12-03T00:58:36.430922",
     "exception": false,
     "start_time": "2022-12-03T00:58:36.421686",
     "status": "completed"
    },
    "tags": []
   },
   "source": [
    "# Test Prediction for Classes"
   ]
  },
  {
   "cell_type": "code",
   "execution_count": 19,
   "id": "6b248a30",
   "metadata": {
    "execution": {
     "iopub.execute_input": "2022-12-03T00:58:36.450474Z",
     "iopub.status.busy": "2022-12-03T00:58:36.450049Z",
     "iopub.status.idle": "2022-12-03T00:58:36.455802Z",
     "shell.execute_reply": "2022-12-03T00:58:36.454350Z"
    },
    "papermill": {
     "duration": 0.018843,
     "end_time": "2022-12-03T00:58:36.458623",
     "exception": false,
     "start_time": "2022-12-03T00:58:36.439780",
     "status": "completed"
    },
    "tags": []
   },
   "outputs": [],
   "source": [
    "# test_data = pd.read_csv('/kaggle/input/disease-prediction-using-machine-learning/Testing.csv')\n",
    "# test_data.isnull().sum()\n",
    "# symptoms = test_data.drop([\"prognosis\"],axis=1)\n",
    "# # symptoms = FeatureSelection.transform(symptoms)\n",
    "\n",
    "# test_data.join(pd.DataFrame(rfc.predict(symptoms),columns=[\"predicted\"]))[[\"prognosis\",\"predicted\"]]"
   ]
  },
  {
   "cell_type": "markdown",
   "id": "16675373",
   "metadata": {
    "papermill": {
     "duration": 0.008228,
     "end_time": "2022-12-03T00:58:36.475789",
     "exception": false,
     "start_time": "2022-12-03T00:58:36.467561",
     "status": "completed"
    },
    "tags": []
   },
   "source": [
    "# Saving Final Model"
   ]
  },
  {
   "cell_type": "code",
   "execution_count": 20,
   "id": "782a00e1",
   "metadata": {
    "execution": {
     "iopub.execute_input": "2022-12-03T00:58:36.494653Z",
     "iopub.status.busy": "2022-12-03T00:58:36.494247Z",
     "iopub.status.idle": "2022-12-03T00:58:36.567322Z",
     "shell.execute_reply": "2022-12-03T00:58:36.565373Z"
    },
    "papermill": {
     "duration": 0.086131,
     "end_time": "2022-12-03T00:58:36.570328",
     "exception": false,
     "start_time": "2022-12-03T00:58:36.484197",
     "status": "completed"
    },
    "tags": []
   },
   "outputs": [
    {
     "name": "stdout",
     "output_type": "stream",
     "text": [
      "Best Model (RFC) Saved as model_rfc.pkl\n"
     ]
    }
   ],
   "source": [
    "import pickle\n",
    "\n",
    "filename = 'model_rfc.pkl'\n",
    "pickle.dump(rfc, open(filename, 'wb'))\n",
    "print(\"Best Model (RFC) Saved as \" + filename)"
   ]
  }
 ],
 "metadata": {
  "kernelspec": {
   "display_name": "Python 3",
   "language": "python",
   "name": "python3"
  },
  "language_info": {
   "codemirror_mode": {
    "name": "ipython",
    "version": 3
   },
   "file_extension": ".py",
   "mimetype": "text/x-python",
   "name": "python",
   "nbconvert_exporter": "python",
   "pygments_lexer": "ipython3",
   "version": "3.7.12"
  },
  "papermill": {
   "default_parameters": {},
   "duration": 16.543962,
   "end_time": "2022-12-03T00:58:37.404812",
   "environment_variables": {},
   "exception": null,
   "input_path": "__notebook__.ipynb",
   "output_path": "__notebook__.ipynb",
   "parameters": {},
   "start_time": "2022-12-03T00:58:20.860850",
   "version": "2.3.4"
  }
 },
 "nbformat": 4,
 "nbformat_minor": 5
}
